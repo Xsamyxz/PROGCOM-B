{
  "nbformat": 4,
  "nbformat_minor": 0,
  "metadata": {
    "colab": {
      "provenance": []
    },
    "kernelspec": {
      "name": "python3",
      "display_name": "Python 3"
    },
    "language_info": {
      "name": "python"
    }
  },
  "cells": [
    {
      "cell_type": "code",
      "execution_count": 2,
      "metadata": {
        "id": "vAtY6_8XiwWO"
      },
      "outputs": [],
      "source": [
        "##juego \n",
        "\n",
        "bancodepreguntas ={}"
      ]
    },
    {
      "cell_type": "code",
      "source": [
        "bancodepreguntas={\"praguntas\":[]}\n",
        "\n",
        "preguntas=['¿organo que bombea sangre?','¿lo usas para pensar?', '¿se encarga de almacenar glucógeno?', '¿cuando tienes ganas de orinar es porque está lleno?']\n",
        "\n",
        "preguntas[:2]"
      ],
      "metadata": {
        "colab": {
          "base_uri": "https://localhost:8080/"
        },
        "id": "4CWflMqfqVkZ",
        "outputId": "8989e0df-9f0a-4f1e-f6e4-98c635b759a5"
      },
      "execution_count": 5,
      "outputs": [
        {
          "output_type": "execute_result",
          "data": {
            "text/plain": [
              "['¿organo que bombea sangre?', '¿lo usas para pensar?']"
            ]
          },
          "metadata": {},
          "execution_count": 5
        }
      ]
    }
  ]
}