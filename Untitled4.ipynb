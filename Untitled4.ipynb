{
  "nbformat": 4,
  "nbformat_minor": 0,
  "metadata": {
    "colab": {
      "name": "Untitled4.ipynb",
      "provenance": []
    },
    "kernelspec": {
      "name": "python3",
      "display_name": "Python 3"
    },
    "language_info": {
      "name": "python"
    }
  },
  "cells": [
    {
      "cell_type": "markdown",
      "source": [
        "#EJERCICIOS EN PAREJA"
      ],
      "metadata": {
        "id": "Cxjjcgr-XGmr"
      }
    },
    {
      "cell_type": "markdown",
      "source": [
        "##1.INDICAR SI UN NÚMERO N ES UN NÚMERO PRIMO(SIENDO N UN NÚMERO QUE SE LEE)"
      ],
      "metadata": {
        "id": "F8N_DSQXXLHa"
      }
    },
    {
      "cell_type": "code",
      "execution_count": 18,
      "metadata": {
        "colab": {
          "base_uri": "https://localhost:8080/"
        },
        "id": "Z1N7r0KJXEUj",
        "outputId": "1764777a-5141-4913-e513-15ecdba3540b"
      },
      "outputs": [
        {
          "output_type": "stream",
          "name": "stdout",
          "text": [
            "ingrese un número15\n",
            "re pailas\n",
            "re pailas\n",
            "re pailas\n",
            "re pailas\n",
            "re pailas\n",
            "re pailas\n",
            "re pailas\n",
            "re pailas\n",
            "re pailas\n",
            "re pailas\n",
            "re pailas\n",
            "re pailas\n",
            "re pailas\n",
            "re pailas\n"
          ]
        }
      ],
      "source": [
        "n=int(input(\"ingrese un número\"))\n",
        "for x in range(1,n):\n",
        "  if n % i ==0:\n",
        "    print(\"el múmero es primo\")\n",
        "  else:\n",
        "    print(\"re pailas\")"
      ]
    },
    {
      "cell_type": "markdown",
      "source": [
        "##2. IMPRIMIR LOS 30 PRIMEROS NÚMERO DE FIBONACCI"
      ],
      "metadata": {
        "id": "kC1U3wvJX0oM"
      }
    },
    {
      "cell_type": "code",
      "source": [
        ""
      ],
      "metadata": {
        "id": "MV3FaBIdX5k6"
      },
      "execution_count": null,
      "outputs": []
    },
    {
      "cell_type": "markdown",
      "source": [
        "##3. CALCULAR LA FACTORIAL DE UN NÚMERON (SIENDO UN NÚMERO QUE SE LEE)"
      ],
      "metadata": {
        "id": "b0e79d-0X--E"
      }
    },
    {
      "cell_type": "code",
      "source": [
        ""
      ],
      "metadata": {
        "id": "qoBYP4cKYKgZ"
      },
      "execution_count": null,
      "outputs": []
    },
    {
      "cell_type": "markdown",
      "source": [
        "##4. CALCULAR LA FACTORIAL DE 10 NÚMEROS DIFERENTES CUYOS VALORES SE LEEN"
      ],
      "metadata": {
        "id": "Jl59yIAQYMYx"
      }
    },
    {
      "cell_type": "code",
      "source": [
        ""
      ],
      "metadata": {
        "id": "vmXCxOJiYYh9"
      },
      "execution_count": null,
      "outputs": []
    },
    {
      "cell_type": "markdown",
      "source": [
        "##5. LEER 20 NúMEROS Y ENCONTRAR EL MAYOR Y EL MENOR VALOR LEÍDOS"
      ],
      "metadata": {
        "id": "aOZLW2cvYY3N"
      }
    },
    {
      "cell_type": "code",
      "source": [
        ""
      ],
      "metadata": {
        "id": "BawPVapjYjzC"
      },
      "execution_count": null,
      "outputs": []
    },
    {
      "cell_type": "markdown",
      "source": [
        "##6. MOSTRAR LA TABLA DE MULTIPLICAR DEL NÚMERO QUE SELECCIONE EL USUARIO. REVISAR QUE ESTÉ EN EL RANGO DE 1 A 10."
      ],
      "metadata": {
        "id": "G1ukfG5JYj7i"
      }
    },
    {
      "cell_type": "code",
      "source": [
        "#imprimir la tabla del n, de 1 hasta 10\n",
        "n=int(input(\"Ingrese la tabla que desee calcular\"))\n",
        "if n<11:\n",
        " print(\"Tabla del \",n)\n",
        " for i in range(1,11):\n",
        "  print(n,\"x\",i,\"=\",n*i)\n",
        "else: \n",
        "  print(\" \")\n",
        "  print(\"pailas\")"
      ],
      "metadata": {
        "colab": {
          "base_uri": "https://localhost:8080/"
        },
        "id": "yAw7jvChYv5w",
        "outputId": "6dae96f7-13e6-428a-bf67-40b27ecb60ca"
      },
      "execution_count": 5,
      "outputs": [
        {
          "output_type": "stream",
          "name": "stdout",
          "text": [
            "Ingrese la tabla que desee calcular15\n",
            " \n",
            "pailas\n"
          ]
        }
      ]
    },
    {
      "cell_type": "code",
      "source": [
        "#while\n",
        "\n",
        "n=int(input(\"Ingrese la tabla que desee calcular\"))\n",
        "while n<11:\n",
        "  print(\"tabla del \", n)\n",
        "  for i in range(1,11):\n",
        "    if range!=10:\n",
        "      break\n",
        "    print(n,\"x\",i,\"=\",n*i)\n"
      ],
      "metadata": {
        "colab": {
          "base_uri": "https://localhost:8080/",
          "height": 380
        },
        "id": "AsojBa_acsyy",
        "outputId": "bb307721-43e1-4c66-ee9c-266e4bde9b44"
      },
      "execution_count": 16,
      "outputs": [
        {
          "output_type": "error",
          "ename": "KeyboardInterrupt",
          "evalue": "ignored",
          "traceback": [
            "\u001b[0;31m---------------------------------------------------------------------------\u001b[0m",
            "\u001b[0;31mKeyboardInterrupt\u001b[0m                         Traceback (most recent call last)",
            "\u001b[0;32m<ipython-input-16-c4bffb99305d>\u001b[0m in \u001b[0;36m<module>\u001b[0;34m\u001b[0m\n\u001b[1;32m      1\u001b[0m \u001b[0;31m#while\u001b[0m\u001b[0;34m\u001b[0m\u001b[0;34m\u001b[0m\u001b[0;34m\u001b[0m\u001b[0m\n\u001b[1;32m      2\u001b[0m \u001b[0;34m\u001b[0m\u001b[0m\n\u001b[0;32m----> 3\u001b[0;31m \u001b[0mn\u001b[0m\u001b[0;34m=\u001b[0m\u001b[0mint\u001b[0m\u001b[0;34m(\u001b[0m\u001b[0minput\u001b[0m\u001b[0;34m(\u001b[0m\u001b[0;34m\"Ingrese la tabla que desee calcular\"\u001b[0m\u001b[0;34m)\u001b[0m\u001b[0;34m)\u001b[0m\u001b[0;34m\u001b[0m\u001b[0;34m\u001b[0m\u001b[0m\n\u001b[0m\u001b[1;32m      4\u001b[0m \u001b[0;32mwhile\u001b[0m \u001b[0mn\u001b[0m\u001b[0;34m<\u001b[0m\u001b[0;36m11\u001b[0m\u001b[0;34m:\u001b[0m\u001b[0;34m\u001b[0m\u001b[0;34m\u001b[0m\u001b[0m\n\u001b[1;32m      5\u001b[0m   \u001b[0mprint\u001b[0m\u001b[0;34m(\u001b[0m\u001b[0;34m\"tabla del \"\u001b[0m\u001b[0;34m,\u001b[0m \u001b[0mn\u001b[0m\u001b[0;34m)\u001b[0m\u001b[0;34m\u001b[0m\u001b[0;34m\u001b[0m\u001b[0m\n",
            "\u001b[0;32m/usr/local/lib/python3.7/dist-packages/ipykernel/kernelbase.py\u001b[0m in \u001b[0;36mraw_input\u001b[0;34m(self, prompt)\u001b[0m\n\u001b[1;32m    861\u001b[0m             \u001b[0mself\u001b[0m\u001b[0;34m.\u001b[0m\u001b[0m_parent_ident\u001b[0m\u001b[0;34m,\u001b[0m\u001b[0;34m\u001b[0m\u001b[0;34m\u001b[0m\u001b[0m\n\u001b[1;32m    862\u001b[0m             \u001b[0mself\u001b[0m\u001b[0;34m.\u001b[0m\u001b[0m_parent_header\u001b[0m\u001b[0;34m,\u001b[0m\u001b[0;34m\u001b[0m\u001b[0;34m\u001b[0m\u001b[0m\n\u001b[0;32m--> 863\u001b[0;31m             \u001b[0mpassword\u001b[0m\u001b[0;34m=\u001b[0m\u001b[0;32mFalse\u001b[0m\u001b[0;34m,\u001b[0m\u001b[0;34m\u001b[0m\u001b[0;34m\u001b[0m\u001b[0m\n\u001b[0m\u001b[1;32m    864\u001b[0m         )\n\u001b[1;32m    865\u001b[0m \u001b[0;34m\u001b[0m\u001b[0m\n",
            "\u001b[0;32m/usr/local/lib/python3.7/dist-packages/ipykernel/kernelbase.py\u001b[0m in \u001b[0;36m_input_request\u001b[0;34m(self, prompt, ident, parent, password)\u001b[0m\n\u001b[1;32m    902\u001b[0m             \u001b[0;32mexcept\u001b[0m \u001b[0mKeyboardInterrupt\u001b[0m\u001b[0;34m:\u001b[0m\u001b[0;34m\u001b[0m\u001b[0;34m\u001b[0m\u001b[0m\n\u001b[1;32m    903\u001b[0m                 \u001b[0;31m# re-raise KeyboardInterrupt, to truncate traceback\u001b[0m\u001b[0;34m\u001b[0m\u001b[0;34m\u001b[0m\u001b[0;34m\u001b[0m\u001b[0m\n\u001b[0;32m--> 904\u001b[0;31m                 \u001b[0;32mraise\u001b[0m \u001b[0mKeyboardInterrupt\u001b[0m\u001b[0;34m(\u001b[0m\u001b[0;34m\"Interrupted by user\"\u001b[0m\u001b[0;34m)\u001b[0m \u001b[0;32mfrom\u001b[0m \u001b[0;32mNone\u001b[0m\u001b[0;34m\u001b[0m\u001b[0;34m\u001b[0m\u001b[0m\n\u001b[0m\u001b[1;32m    905\u001b[0m             \u001b[0;32mexcept\u001b[0m \u001b[0mException\u001b[0m \u001b[0;32mas\u001b[0m \u001b[0me\u001b[0m\u001b[0;34m:\u001b[0m\u001b[0;34m\u001b[0m\u001b[0;34m\u001b[0m\u001b[0m\n\u001b[1;32m    906\u001b[0m                 \u001b[0mself\u001b[0m\u001b[0;34m.\u001b[0m\u001b[0mlog\u001b[0m\u001b[0;34m.\u001b[0m\u001b[0mwarning\u001b[0m\u001b[0;34m(\u001b[0m\u001b[0;34m\"Invalid Message:\"\u001b[0m\u001b[0;34m,\u001b[0m \u001b[0mexc_info\u001b[0m\u001b[0;34m=\u001b[0m\u001b[0;32mTrue\u001b[0m\u001b[0;34m)\u001b[0m\u001b[0;34m\u001b[0m\u001b[0;34m\u001b[0m\u001b[0m\n",
            "\u001b[0;31mKeyboardInterrupt\u001b[0m: Interrupted by user"
          ]
        }
      ]
    },
    {
      "cell_type": "markdown",
      "source": [
        "##7. CALCULAR LA SUMA SIGUIENTE: 100+90+80+70+...+0"
      ],
      "metadata": {
        "id": "mRouqFJ1YwGA"
      }
    },
    {
      "cell_type": "code",
      "source": [
        ""
      ],
      "metadata": {
        "id": "L2kWew2KY3eQ"
      },
      "execution_count": null,
      "outputs": []
    },
    {
      "cell_type": "markdown",
      "source": [
        "##8. LEER  UN NÚMERO ENTERO N Y CALCULAR LA SIGUIENTE SERIE:\n",
        "\n",
        "1-1/2+1/2+1/3+1/4+...-1/N"
      ],
      "metadata": {
        "id": "tOGZo-Y7Y3po"
      }
    },
    {
      "cell_type": "code",
      "source": [
        ""
      ],
      "metadata": {
        "id": "rswqQ9OhZDhQ"
      },
      "execution_count": null,
      "outputs": []
    },
    {
      "cell_type": "markdown",
      "source": [
        "##9. LEER UN NÚMERO ENTERO N Y CALCULAR EL RESULTADO DE LA SERIE:\n",
        "\n",
        "2/1+4/3+6/5+...+12/11+... HASTA N VALORES"
      ],
      "metadata": {
        "id": "VW-jDiELZDsw"
      }
    },
    {
      "cell_type": "code",
      "source": [
        ""
      ],
      "metadata": {
        "id": "ercuVnkEZwPI"
      },
      "execution_count": null,
      "outputs": []
    },
    {
      "cell_type": "markdown",
      "source": [
        "##10. MULTIPLICAR LOS NÚMEROS INTRODUCIDOS POR EL USUARIO QUE ESTÉN EN EL RANGO 1 AL 10. TERMINAR CUANDO EL USUARIO INTRODUZCA UN NÚMERO FUERA DEL RANGO Y MOSTRAR EL RESULTADO."
      ],
      "metadata": {
        "id": "Ly2mkpzNZwkY"
      }
    },
    {
      "cell_type": "code",
      "source": [
        ""
      ],
      "metadata": {
        "id": "FttuEi-_aa-o"
      },
      "execution_count": null,
      "outputs": []
    }
  ]
}