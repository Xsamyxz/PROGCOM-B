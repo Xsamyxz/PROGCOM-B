{
  "nbformat": 4,
  "nbformat_minor": 0,
  "metadata": {
    "colab": {
      "provenance": []
    },
    "kernelspec": {
      "name": "python3",
      "display_name": "Python 3"
    },
    "language_info": {
      "name": "python"
    }
  },
  "cells": [
    {
      "cell_type": "code",
      "execution_count": null,
      "metadata": {
        "id": "bfbAJt-AP-Xi"
      },
      "outputs": [],
      "source": []
    },
    {
      "cell_type": "markdown",
      "source": [
        "# diccionario y listas\n",
        "\n"
      ],
      "metadata": {
        "id": "D8YiIIrcP-2v"
      }
    },
    {
      "cell_type": "markdown",
      "source": [
        "##notación de variables\n",
        "\n",
        "solo pueden contener caracteres alfanuméricos (A-Z, a-z, 0-9,_)\n",
        "\n",
        "se distingue entre mayúsculas y minusculas edad vs edad vs edad"
      ],
      "metadata": {
        "id": "tdlpkuSjQDnG"
      }
    },
    {
      "cell_type": "markdown",
      "source": [
        "## la funcion print()\n",
        "\n",
        "toma argumentos y los convierte en un formalo legible\n",
        "\n",
        "puede tomar más de un argumento\n",
        "\n",
        "envía los datos resultantes al dispotivo de salida.\n",
        "\n"
      ],
      "metadata": {
        "id": "PpkI4MtfRBEk"
      }
    },
    {
      "cell_type": "markdown",
      "source": [
        "## la funcion print() - nueva linea /n \n",
        "\n",
        "\\n significa carácter de escape: serie de caracteres en la cadena se escapa (detiene) por un momento (muy corto) para introducir una inclusión especial.\n",
        "\n"
      ],
      "metadata": {
        "id": "_x788j8vRkAy"
      }
    },
    {
      "cell_type": "code",
      "source": [
        "print(\"la witsi witsi araña\\nsubió a su telaraña.\\n\")\n",
        "\n",
        "print(\"vino la lluvia \\ny se la llevó\")"
      ],
      "metadata": {
        "colab": {
          "base_uri": "https://localhost:8080/"
        },
        "id": "UQf4ZLkyQfBi",
        "outputId": "cc1a291c-57a0-4e62-b290-a7b24d8d5dd1"
      },
      "execution_count": null,
      "outputs": [
        {
          "output_type": "stream",
          "name": "stdout",
          "text": [
            "la witsi witsi araña\n",
            "subió a su telaraña.\n",
            "\n",
            "vino la lluvia \n",
            "y se la llevó\n"
          ]
        }
      ]
    },
    {
      "cell_type": "markdown",
      "source": [
        "print(\"\\\")\n",
        "print(\\)\n",
        "print(\"\\\\\")"
      ],
      "metadata": {
        "id": "h9JWYT1cSebp"
      }
    },
    {
      "cell_type": "code",
      "source": [
        "print(\"me gusta \\\"morty python\\\"\")"
      ],
      "metadata": {
        "colab": {
          "base_uri": "https://localhost:8080/"
        },
        "id": "33Zs-5_TSpTY",
        "outputId": "427e211a-0526-48af-9e88-54ed15693b8f"
      },
      "execution_count": null,
      "outputs": [
        {
          "output_type": "stream",
          "name": "stdout",
          "text": [
            "me gusta \"morty python\"\n"
          ]
        }
      ]
    },
    {
      "cell_type": "code",
      "source": [
        "print('me gusta \"morty python\"')"
      ],
      "metadata": {
        "colab": {
          "base_uri": "https://localhost:8080/"
        },
        "id": "86t_V084UQsl",
        "outputId": "96f3af22-3d5c-479d-f00a-432e40d0290d"
      },
      "execution_count": null,
      "outputs": [
        {
          "output_type": "stream",
          "name": "stdout",
          "text": [
            "me gusta \"morty python\"\n"
          ]
        }
      ]
    },
    {
      "cell_type": "markdown",
      "source": [
        "##argumentos de palabra clave - end\n",
        "\n",
        "un argumento de palabra clave consta de tres elementos: una"
      ],
      "metadata": {
        "id": "PHmF1IsaVW5q"
      }
    },
    {
      "cell_type": "code",
      "source": [
        "print(\"Mi nombre es\",\"Python. \")\n",
        "print(\"Monty Python.\")"
      ],
      "metadata": {
        "colab": {
          "base_uri": "https://localhost:8080/"
        },
        "id": "XtxJQbpwVe-C",
        "outputId": "abf64970-3cf2-4b66-ac45-b4488b243457"
      },
      "execution_count": null,
      "outputs": [
        {
          "output_type": "stream",
          "name": "stdout",
          "text": [
            "Mi nombre es Python. \n",
            "Monty Python.\n"
          ]
        }
      ]
    },
    {
      "cell_type": "code",
      "source": [
        "print(\"Mi nombre es\", \"Python.\", end=\"\")\n",
        "print(\"Monty Phyton.\")"
      ],
      "metadata": {
        "colab": {
          "base_uri": "https://localhost:8080/"
        },
        "id": "M-r6YP6QVxEB",
        "outputId": "00905936-e195-4f7b-8c7e-8512cc9304e0"
      },
      "execution_count": null,
      "outputs": [
        {
          "output_type": "stream",
          "name": "stdout",
          "text": [
            "Mi nombre es Python.Monty Phyton.\n"
          ]
        }
      ]
    },
    {
      "cell_type": "markdown",
      "source": [
        "##SEP \n",
        "\n",
        "un argumento de palabra clave consta de tres elementos: una palabla clave que udentifica el argumento (sep); un signo igual (=) y un valor asignado o este argumento.\n",
        "\n",
        "cualquier argumento de palabra clave debe ponerde despues del ultimo argumento posicional."
      ],
      "metadata": {
        "id": "utWT435UWnDa"
      }
    },
    {
      "cell_type": "code",
      "source": [
        "print(\"Mi nombre es\", \"Python.\", sep=\"\")\n",
        "print(\"Monty Phyton.\")"
      ],
      "metadata": {
        "colab": {
          "base_uri": "https://localhost:8080/"
        },
        "id": "wivCbLZYXXnn",
        "outputId": "afac91ba-3336-4de5-da23-f6fd1305ff31"
      },
      "execution_count": null,
      "outputs": [
        {
          "output_type": "stream",
          "name": "stdout",
          "text": [
            "Mi nombre esPython.\n",
            "Monty Phyton.\n"
          ]
        }
      ]
    },
    {
      "cell_type": "code",
      "source": [
        "print(\"Mi nombre\", \"es\", \"Monty\", \"Python.\", end=\"-\")\n",
        "print(\"Monty Phyton.\")"
      ],
      "metadata": {
        "colab": {
          "base_uri": "https://localhost:8080/"
        },
        "id": "1r1rXr2-XmqQ",
        "outputId": "246a30d5-2389-49bd-d8d2-70b487af9c00"
      },
      "execution_count": null,
      "outputs": [
        {
          "output_type": "stream",
          "name": "stdout",
          "text": [
            "Mi nombre es Monty Python.-Monty Phyton.\n"
          ]
        }
      ]
    },
    {
      "cell_type": "code",
      "source": [
        "print(\"mi\", \"nombre\", \"es\", sep=\"_\", end=\"*\")\n",
        "print(\"Monty\", \"Python.\", sep=\"*\", end=\"*\\n\")"
      ],
      "metadata": {
        "colab": {
          "base_uri": "https://localhost:8080/"
        },
        "id": "IH0o2QGkYDZv",
        "outputId": "7c264b84-ba99-40aa-80a6-eabf569f5275"
      },
      "execution_count": null,
      "outputs": [
        {
          "output_type": "stream",
          "name": "stdout",
          "text": [
            "mi_nombre_es*Monty*Python.*\n"
          ]
        }
      ]
    },
    {
      "cell_type": "code",
      "source": [
        "print(\"Fundamentos\",\"Programación\",\"en\", sep=\"***\", end=\"...\")"
      ],
      "metadata": {
        "colab": {
          "base_uri": "https://localhost:8080/"
        },
        "id": "vlpEB9aJYqxn",
        "outputId": "dbfbab44-6e2d-4882-c264-6621c4a473f5"
      },
      "execution_count": null,
      "outputs": [
        {
          "output_type": "stream",
          "name": "stdout",
          "text": [
            "Fundamentos***Programación***en..."
          ]
        }
      ]
    },
    {
      "cell_type": "code",
      "source": [
        "print(\"    *\\n   * *\\n  *   *\\n *     *\\n***   ***\\n  *   *\\n  *   *\\n  *****\")"
      ],
      "metadata": {
        "colab": {
          "base_uri": "https://localhost:8080/"
        },
        "id": "pxdLuwnZZvha",
        "outputId": "d2ebc7ed-fcbd-4857-fd27-f826151cf89b"
      },
      "execution_count": null,
      "outputs": [
        {
          "output_type": "stream",
          "name": "stdout",
          "text": [
            "    *\n",
            "   * *\n",
            "  *   *\n",
            " *     *\n",
            "***   ***\n",
            "  *   *\n",
            "  *   *\n",
            "  *****\n"
          ]
        }
      ]
    },
    {
      "cell_type": "markdown",
      "source": [
        "##números octales y hexadecimales\n",
        "\n",
        "Existen dos convenciones adicionales en Python que no son conocidas en el mundo \n",
        "de las matemáticas. El primero nos permite utilizar el número en su representación octal.\n",
        "\n",
        "Si un número entero esta precedido por un código 0O o 0O(cero-O, el número será tratado como un valor octal. Esto significa que el el número debe contener dígitos en el rango del [0..7] únicamente.\n",
        "\n",
        "print(0O123)\n",
        "\n",
        "\n",
        "la segunda concención nos permite utilizar números en hexadecimal. Dichos números deben ser precedidos por el prefijo 0x o 0x(cero-x).\n",
        "\n",
        "print(0x123"
      ],
      "metadata": {
        "id": "yHc0aXp4b6qc"
      }
    },
    {
      "cell_type": "code",
      "source": [
        "print(0x123)"
      ],
      "metadata": {
        "colab": {
          "base_uri": "https://localhost:8080/"
        },
        "id": "eq46TvNIc3_N",
        "outputId": "fc40117d-79ac-4804-f361-e77b21e2d512"
      },
      "execution_count": null,
      "outputs": [
        {
          "output_type": "stream",
          "name": "stdout",
          "text": [
            "291\n"
          ]
        }
      ]
    },
    {
      "cell_type": "code",
      "source": [],
      "metadata": {
        "id": "oHRWpxetdYk8"
      },
      "execution_count": null,
      "outputs": []
    },
    {
      "cell_type": "markdown",
      "source": [
        "##DICCIONARIO\n",
        "\n",
        "YA NO SON CONCEPTOS SINO VALORES\n",
        "\n",
        "diferencia entre listas y diccionarios \n",
        "en los diccionarios se almacenan por palabras no por orden alfanumérico o indeccación numérica.\n",
        "\n",
        "Útiles para bases de datos\n",
        "\n",
        "ortden en que se muestran al imprimir\n",
        "clave-->valor"
      ],
      "metadata": {
        "id": "JN32aFBlO84v"
      }
    },
    {
      "cell_type": "code",
      "source": [
        "larousse={}"
      ],
      "metadata": {
        "id": "oy_2__i92aXI"
      },
      "execution_count": null,
      "outputs": []
    },
    {
      "cell_type": "code",
      "source": [
        "type(larousse)"
      ],
      "metadata": {
        "colab": {
          "base_uri": "https://localhost:8080/"
        },
        "id": "3bbMSFM32jw3",
        "outputId": "49e0741b-b568-4ad3-f529-ac3f16530189"
      },
      "execution_count": null,
      "outputs": [
        {
          "output_type": "execute_result",
          "data": {
            "text/plain": [
              "dict"
            ]
          },
          "metadata": {},
          "execution_count": 2
        }
      ]
    },
    {
      "cell_type": "code",
      "source": [
        "larousse={\"frutas\":[\"manzana\",\"sandía\",\"guaraná\",\"kiwi\",\"granada\"],\"color\":\"violeta\",\"verdad\":True}"
      ],
      "metadata": {
        "id": "3Sn5fW2L2nfP"
      },
      "execution_count": null,
      "outputs": []
    },
    {
      "cell_type": "code",
      "source": [
        "#sobreescribiendo valores"
      ],
      "metadata": {
        "id": "T0PDnYv54QNb"
      },
      "execution_count": null,
      "outputs": []
    },
    {
      "cell_type": "code",
      "source": [
        "larousse[\"color\"]=\"amarillo\"\n",
        "larousse"
      ],
      "metadata": {
        "colab": {
          "base_uri": "https://localhost:8080/"
        },
        "id": "Sp1ERba73h7d",
        "outputId": "0c4edcf6-71bd-4a1c-bee0-e7d6cdb6dbe1"
      },
      "execution_count": null,
      "outputs": [
        {
          "output_type": "execute_result",
          "data": {
            "text/plain": [
              "{'frutas': ['manzana', 'sandía', 'guaraná', 'kiwi', 'granada'],\n",
              " 'color': 'amarillo',\n",
              " 'verdad': True}"
            ]
          },
          "metadata": {},
          "execution_count": 5
        }
      ]
    },
    {
      "cell_type": "code",
      "source": [
        "larousse[\"color\"]=[\"amarillo\",\"azul\",\"rojo\"]\n",
        "larousse"
      ],
      "metadata": {
        "colab": {
          "base_uri": "https://localhost:8080/"
        },
        "id": "lX5s3eNf39Q8",
        "outputId": "b0e952cb-836b-4ac4-d8a4-8babb88513ea"
      },
      "execution_count": null,
      "outputs": [
        {
          "output_type": "execute_result",
          "data": {
            "text/plain": [
              "{'frutas': ['manzana', 'sandía', 'guaraná', 'kiwi', 'granada'],\n",
              " 'color': ['amarillo', 'azul', 'rojo'],\n",
              " 'verdad': True}"
            ]
          },
          "metadata": {},
          "execution_count": 6
        }
      ]
    },
    {
      "cell_type": "code",
      "source": [
        "larousse[\"nombre\"]=\"Clark Kent\"\n",
        "larousse\n"
      ],
      "metadata": {
        "colab": {
          "base_uri": "https://localhost:8080/"
        },
        "id": "A0j0a5s94Tci",
        "outputId": "695b4715-7e8f-4f05-9da1-a7ed3e39b84a"
      },
      "execution_count": null,
      "outputs": [
        {
          "output_type": "execute_result",
          "data": {
            "text/plain": [
              "{'frutas': ['manzana', 'sandía', 'guaraná', 'kiwi', 'granada'],\n",
              " 'color': ['amarillo', 'azul', 'rojo'],\n",
              " 'verdad': True,\n",
              " 'nombre': 'Clark Kent'}"
            ]
          },
          "metadata": {},
          "execution_count": 7
        }
      ]
    },
    {
      "cell_type": "code",
      "source": [
        "#recuperando elementos\n"
      ],
      "metadata": {
        "id": "xW9awTEw4nOL"
      },
      "execution_count": null,
      "outputs": []
    },
    {
      "cell_type": "code",
      "source": [
        "larousse[\"color\"]"
      ],
      "metadata": {
        "colab": {
          "base_uri": "https://localhost:8080/"
        },
        "id": "hYt_O8Bw4smS",
        "outputId": "6225dce6-5b98-496a-973e-c6f65123de25"
      },
      "execution_count": null,
      "outputs": [
        {
          "output_type": "execute_result",
          "data": {
            "text/plain": [
              "['amarillo', 'azul', 'rojo']"
            ]
          },
          "metadata": {},
          "execution_count": 9
        }
      ]
    },
    {
      "cell_type": "code",
      "source": [
        "#recupetando elementos de un diccionario\n",
        "\n",
        "larousse['color'][0]"
      ],
      "metadata": {
        "colab": {
          "base_uri": "https://localhost:8080/",
          "height": 35
        },
        "id": "rTJfuwhJ5HGb",
        "outputId": "ded9d6fd-42a4-4797-f3a1-a04d7e6f6b80"
      },
      "execution_count": null,
      "outputs": [
        {
          "output_type": "execute_result",
          "data": {
            "text/plain": [
              "'amarillo'"
            ],
            "application/vnd.google.colaboratory.intrinsic+json": {
              "type": "string"
            }
          },
          "metadata": {},
          "execution_count": 10
        }
      ]
    },
    {
      "cell_type": "code",
      "source": [
        "#borrando elementos del diccionario\n",
        "del(larousse[\"verdad\"])\n",
        "larousse"
      ],
      "metadata": {
        "colab": {
          "base_uri": "https://localhost:8080/"
        },
        "id": "1vOl7ZXI5weK",
        "outputId": "8be4d37b-8d85-43ae-9658-e26bc3c0195c"
      },
      "execution_count": null,
      "outputs": [
        {
          "output_type": "execute_result",
          "data": {
            "text/plain": [
              "{'frutas': ['manzana', 'sandía', 'guaraná', 'kiwi', 'granada'],\n",
              " 'color': ['amarillo', 'azul', 'rojo'],\n",
              " 'nombre': 'Clark Kent'}"
            ]
          },
          "metadata": {},
          "execution_count": 11
        }
      ]
    },
    {
      "cell_type": "code",
      "source": [
        "larousse"
      ],
      "metadata": {
        "colab": {
          "base_uri": "https://localhost:8080/"
        },
        "id": "chxpzhBN7tCw",
        "outputId": "c973eab8-3e2a-493c-cdcc-85f5bb5f05e9"
      },
      "execution_count": null,
      "outputs": [
        {
          "output_type": "execute_result",
          "data": {
            "text/plain": [
              "{'frutas': ['manzana', 'sandía', 'guaraná', 'kiwi', 'granada'],\n",
              " 'color': ['amarillo', 'azul', 'rojo'],\n",
              " 'nombre': 'Clark Kent'}"
            ]
          },
          "metadata": {},
          "execution_count": 12
        }
      ]
    },
    {
      "cell_type": "code",
      "source": [
        "larousse[\"frutas\"]=1\n",
        "larousse"
      ],
      "metadata": {
        "colab": {
          "base_uri": "https://localhost:8080/"
        },
        "id": "3hx5ECfc6aDC",
        "outputId": "8e76bbab-2206-4b83-b8c4-d821653472c0"
      },
      "execution_count": null,
      "outputs": [
        {
          "output_type": "execute_result",
          "data": {
            "text/plain": [
              "{'frutas': 1, 'color': ['amarillo', 'azul', 'rojo'], 'nombre': 'Clark Kent'}"
            ]
          },
          "metadata": {},
          "execution_count": 13
        }
      ]
    },
    {
      "cell_type": "code",
      "source": [
        "type(larousse[\"frutas\"])"
      ],
      "metadata": {
        "colab": {
          "base_uri": "https://localhost:8080/"
        },
        "id": "1df1MzyF6hgB",
        "outputId": "c20abace-ab07-4812-8e36-e84efa0f2da4"
      },
      "execution_count": null,
      "outputs": [
        {
          "output_type": "execute_result",
          "data": {
            "text/plain": [
              "int"
            ]
          },
          "metadata": {},
          "execution_count": 14
        }
      ]
    },
    {
      "cell_type": "code",
      "source": [
        "larousse[\"verdad\"]=True"
      ],
      "metadata": {
        "id": "VVQYkKVH62nI"
      },
      "execution_count": null,
      "outputs": []
    },
    {
      "cell_type": "code",
      "source": [
        "larousse"
      ],
      "metadata": {
        "id": "C0z9j2yr7LDX",
        "outputId": "eda092d6-d792-4a51-889e-57a493b8379d",
        "colab": {
          "base_uri": "https://localhost:8080/"
        }
      },
      "execution_count": null,
      "outputs": [
        {
          "output_type": "execute_result",
          "data": {
            "text/plain": [
              "{'frutas': 1,\n",
              " 'color': ['amarillo', 'azul', 'rojo'],\n",
              " 'nombre': 'Clark Kent',\n",
              " 'verdad': True}"
            ]
          },
          "metadata": {},
          "execution_count": 16
        }
      ]
    },
    {
      "cell_type": "code",
      "source": [
        "import pandas as pd"
      ],
      "metadata": {
        "id": "2XSBzoV-As4u"
      },
      "execution_count": null,
      "outputs": []
    },
    {
      "cell_type": "code",
      "source": [
        "ejemplo={\"col1\":[1,.2,3],\"nombre\":[\"Ana\",\"Berta\",\"Daniel\"]}\n",
        "pd.DataFrame.from_dict(ejemplo)"
      ],
      "metadata": {
        "colab": {
          "base_uri": "https://localhost:8080/",
          "height": 143
        },
        "id": "R-2JvR7qA0L2",
        "outputId": "14ca8710-b0c2-43ba-e276-51ec6f261732"
      },
      "execution_count": null,
      "outputs": [
        {
          "output_type": "execute_result",
          "data": {
            "text/plain": [
              "   col1  nombre\n",
              "0   1.0     Ana\n",
              "1   0.2   Berta\n",
              "2   3.0  Daniel"
            ],
            "text/html": [
              "\n",
              "  <div id=\"df-82716a1b-e22b-45ae-adda-4fd7dd984266\">\n",
              "    <div class=\"colab-df-container\">\n",
              "      <div>\n",
              "<style scoped>\n",
              "    .dataframe tbody tr th:only-of-type {\n",
              "        vertical-align: middle;\n",
              "    }\n",
              "\n",
              "    .dataframe tbody tr th {\n",
              "        vertical-align: top;\n",
              "    }\n",
              "\n",
              "    .dataframe thead th {\n",
              "        text-align: right;\n",
              "    }\n",
              "</style>\n",
              "<table border=\"1\" class=\"dataframe\">\n",
              "  <thead>\n",
              "    <tr style=\"text-align: right;\">\n",
              "      <th></th>\n",
              "      <th>col1</th>\n",
              "      <th>nombre</th>\n",
              "    </tr>\n",
              "  </thead>\n",
              "  <tbody>\n",
              "    <tr>\n",
              "      <th>0</th>\n",
              "      <td>1.0</td>\n",
              "      <td>Ana</td>\n",
              "    </tr>\n",
              "    <tr>\n",
              "      <th>1</th>\n",
              "      <td>0.2</td>\n",
              "      <td>Berta</td>\n",
              "    </tr>\n",
              "    <tr>\n",
              "      <th>2</th>\n",
              "      <td>3.0</td>\n",
              "      <td>Daniel</td>\n",
              "    </tr>\n",
              "  </tbody>\n",
              "</table>\n",
              "</div>\n",
              "      <button class=\"colab-df-convert\" onclick=\"convertToInteractive('df-82716a1b-e22b-45ae-adda-4fd7dd984266')\"\n",
              "              title=\"Convert this dataframe to an interactive table.\"\n",
              "              style=\"display:none;\">\n",
              "        \n",
              "  <svg xmlns=\"http://www.w3.org/2000/svg\" height=\"24px\"viewBox=\"0 0 24 24\"\n",
              "       width=\"24px\">\n",
              "    <path d=\"M0 0h24v24H0V0z\" fill=\"none\"/>\n",
              "    <path d=\"M18.56 5.44l.94 2.06.94-2.06 2.06-.94-2.06-.94-.94-2.06-.94 2.06-2.06.94zm-11 1L8.5 8.5l.94-2.06 2.06-.94-2.06-.94L8.5 2.5l-.94 2.06-2.06.94zm10 10l.94 2.06.94-2.06 2.06-.94-2.06-.94-.94-2.06-.94 2.06-2.06.94z\"/><path d=\"M17.41 7.96l-1.37-1.37c-.4-.4-.92-.59-1.43-.59-.52 0-1.04.2-1.43.59L10.3 9.45l-7.72 7.72c-.78.78-.78 2.05 0 2.83L4 21.41c.39.39.9.59 1.41.59.51 0 1.02-.2 1.41-.59l7.78-7.78 2.81-2.81c.8-.78.8-2.07 0-2.86zM5.41 20L4 18.59l7.72-7.72 1.47 1.35L5.41 20z\"/>\n",
              "  </svg>\n",
              "      </button>\n",
              "      \n",
              "  <style>\n",
              "    .colab-df-container {\n",
              "      display:flex;\n",
              "      flex-wrap:wrap;\n",
              "      gap: 12px;\n",
              "    }\n",
              "\n",
              "    .colab-df-convert {\n",
              "      background-color: #E8F0FE;\n",
              "      border: none;\n",
              "      border-radius: 50%;\n",
              "      cursor: pointer;\n",
              "      display: none;\n",
              "      fill: #1967D2;\n",
              "      height: 32px;\n",
              "      padding: 0 0 0 0;\n",
              "      width: 32px;\n",
              "    }\n",
              "\n",
              "    .colab-df-convert:hover {\n",
              "      background-color: #E2EBFA;\n",
              "      box-shadow: 0px 1px 2px rgba(60, 64, 67, 0.3), 0px 1px 3px 1px rgba(60, 64, 67, 0.15);\n",
              "      fill: #174EA6;\n",
              "    }\n",
              "\n",
              "    [theme=dark] .colab-df-convert {\n",
              "      background-color: #3B4455;\n",
              "      fill: #D2E3FC;\n",
              "    }\n",
              "\n",
              "    [theme=dark] .colab-df-convert:hover {\n",
              "      background-color: #434B5C;\n",
              "      box-shadow: 0px 1px 3px 1px rgba(0, 0, 0, 0.15);\n",
              "      filter: drop-shadow(0px 1px 2px rgba(0, 0, 0, 0.3));\n",
              "      fill: #FFFFFF;\n",
              "    }\n",
              "  </style>\n",
              "\n",
              "      <script>\n",
              "        const buttonEl =\n",
              "          document.querySelector('#df-82716a1b-e22b-45ae-adda-4fd7dd984266 button.colab-df-convert');\n",
              "        buttonEl.style.display =\n",
              "          google.colab.kernel.accessAllowed ? 'block' : 'none';\n",
              "\n",
              "        async function convertToInteractive(key) {\n",
              "          const element = document.querySelector('#df-82716a1b-e22b-45ae-adda-4fd7dd984266');\n",
              "          const dataTable =\n",
              "            await google.colab.kernel.invokeFunction('convertToInteractive',\n",
              "                                                     [key], {});\n",
              "          if (!dataTable) return;\n",
              "\n",
              "          const docLinkHtml = 'Like what you see? Visit the ' +\n",
              "            '<a target=\"_blank\" href=https://colab.research.google.com/notebooks/data_table.ipynb>data table notebook</a>'\n",
              "            + ' to learn more about interactive tables.';\n",
              "          element.innerHTML = '';\n",
              "          dataTable['output_type'] = 'display_data';\n",
              "          await google.colab.output.renderOutput(dataTable, element);\n",
              "          const docLink = document.createElement('div');\n",
              "          docLink.innerHTML = docLinkHtml;\n",
              "          element.appendChild(docLink);\n",
              "        }\n",
              "      </script>\n",
              "    </div>\n",
              "  </div>\n",
              "  "
            ]
          },
          "metadata": {},
          "execution_count": 18
        }
      ]
    }
  ]
}