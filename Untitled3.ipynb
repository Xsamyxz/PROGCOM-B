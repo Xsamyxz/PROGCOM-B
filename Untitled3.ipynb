{
  "nbformat": 4,
  "nbformat_minor": 0,
  "metadata": {
    "colab": {
      "provenance": []
    },
    "kernelspec": {
      "name": "python3",
      "display_name": "Python 3"
    },
    "language_info": {
      "name": "python"
    }
  },
  "cells": [
    {
      "cell_type": "markdown",
      "source": [
        "Empleando ciclo para "
      ],
      "metadata": {
        "id": "SDNppVw7L6K5"
      }
    },
    {
      "cell_type": "markdown",
      "source": [
        "## ciclo para (for)\n",
        "\n",
        "for (variable) in range(punto inicial, punto final, pasos)\n",
        "\n",
        "- punto inicial: valor inicial donde arranca la repetición \n",
        "- punto final: valor final donde termina la reetición \n",
        "- paso: la constante que se suma al contador "
      ],
      "metadata": {
        "id": "C8orLl5QMBk4"
      }
    },
    {
      "cell_type": "code",
      "execution_count": null,
      "metadata": {
        "colab": {
          "base_uri": "https://localhost:8080/"
        },
        "id": "EMDRIUUcL5ek",
        "outputId": "7df7f73e-fc6a-46bb-c3e7-b0122c02df0e"
      },
      "outputs": [
        {
          "output_type": "stream",
          "name": "stdout",
          "text": [
            "Ingrese la tabla que desee calcular21\n",
            "21 x 1 = 21\n",
            "21 x 2 = 42\n",
            "21 x 3 = 63\n",
            "21 x 4 = 84\n",
            "21 x 5 = 105\n",
            "21 x 6 = 126\n",
            "21 x 7 = 147\n",
            "21 x 8 = 168\n",
            "21 x 9 = 189\n",
            "21 x 10 = 210\n"
          ]
        }
      ],
      "source": [
        "#imprimir la tabla del n, de 1 hasta 10\n",
        "n=int(input(\"Ingrese la tabla que desee calcular\"))\n",
        "print(\"Tabla del \",n)\n",
        "for i in range(1,11):\n",
        "  print(n,\"x\",i,\"=\",n*i)"
      ]
    },
    {
      "cell_type": "code",
      "source": [
        "for n in range(1,11):\n",
        " def n:\n",
        "  return(n+1)\n",
        "print(\"tabla del \" , n )\n",
        "print( \"\")"
      ],
      "metadata": {
        "id": "n8k-JDJCN0Fh"
      },
      "execution_count": null,
      "outputs": []
    },
    {
      "cell_type": "code",
      "source": [
        "n=1\n",
        "while n<11:\n",
        "  print(\"tabla del \", n)\n",
        "  for i in range(1,11):\n",
        "    print(n, \"x\" i)"
      ],
      "metadata": {
        "colab": {
          "base_uri": "https://localhost:8080/",
          "height": 130
        },
        "id": "OCTW6lapPrYE",
        "outputId": "5721e9d1-6c66-4bcd-f952-118191c96dd1"
      },
      "execution_count": null,
      "outputs": [
        {
          "output_type": "error",
          "ename": "SyntaxError",
          "evalue": "ignored",
          "traceback": [
            "\u001b[0;36m  File \u001b[0;32m\"<ipython-input-29-789693235d55>\"\u001b[0;36m, line \u001b[0;32m5\u001b[0m\n\u001b[0;31m    print(n, \"x\" i)\u001b[0m\n\u001b[0m                 ^\u001b[0m\n\u001b[0;31mSyntaxError\u001b[0m\u001b[0;31m:\u001b[0m invalid syntax\n"
          ]
        }
      ]
    },
    {
      "cell_type": "code",
      "source": [
        "#para hacer medio arbolito.....\n",
        "\n",
        "n=input(\"ingrese un símbolo\")\n",
        "\n",
        "for i in range(1,11):\n",
        "  print(n*i)"
      ],
      "metadata": {
        "colab": {
          "base_uri": "https://localhost:8080/"
        },
        "id": "RFV9qPtxQJlZ",
        "outputId": "40095da9-fb9f-4b9e-cbc1-6ba6e0f25a50"
      },
      "execution_count": null,
      "outputs": [
        {
          "output_type": "stream",
          "name": "stdout",
          "text": [
            "ingrese un símbolo*\n",
            " *\n",
            " **\n",
            " ***\n",
            " ****\n",
            " *****\n",
            " ******\n",
            " *******\n",
            " ********\n",
            " *********\n",
            " **********\n"
          ]
        }
      ]
    },
    {
      "cell_type": "code",
      "source": [
        "\n",
        " \n",
        "import math\n",
        " \n",
        "max=50\n",
        "separacion=1\n",
        "j=1\n",
        " \n",
        "# creamos el arbol\n",
        "for i in range(0,max,2):\n",
        " \n",
        "    # ponemos los espacios\n",
        "    linea=(separacion+math.ceil(max/1)-j)*\" \"\n",
        " \n",
        "    # ponemos los asteriscos\n",
        "    linea+=i*\"*\"\n",
        " \n",
        "    j+=1\n",
        "    print(linea)\n",
        " \n",
        "# cramos el tronco\n",
        "linea=(separacion+math.ceil(max/1)-2)*\" \"\n",
        "linea+=6*\"*\"\n",
        "print(linea)\n",
        "print(linea)"
      ],
      "metadata": {
        "colab": {
          "base_uri": "https://localhost:8080/"
        },
        "id": "ABqtxAVmTzGI",
        "outputId": "de7d6b80-8591-4621-ee51-774fe25d7cff"
      },
      "execution_count": null,
      "outputs": [
        {
          "output_type": "stream",
          "name": "stdout",
          "text": [
            "                                                      \n",
            "                                                     **\n",
            "                                                    ****\n",
            "                                                   ******\n",
            "                                                  ********\n",
            "                                                 **********\n",
            "                                                ************\n",
            "                                               **************\n",
            "                                              ****************\n",
            "                                             ******************\n",
            "                                            ********************\n",
            "                                           **********************\n",
            "                                          ************************\n",
            "                                         **************************\n",
            "                                        ****************************\n",
            "                                       ******************************\n",
            "                                      ********************************\n",
            "                                     **********************************\n",
            "                                    ************************************\n",
            "                                   **************************************\n",
            "                                  ****************************************\n",
            "                                 ******************************************\n",
            "                                ********************************************\n",
            "                               **********************************************\n",
            "                              ************************************************\n",
            "                                                     ******\n",
            "                                                     ******\n"
          ]
        }
      ]
    }
  ]
}