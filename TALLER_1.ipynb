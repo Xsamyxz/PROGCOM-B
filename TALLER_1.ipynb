{
  "cells": [
    {
      "cell_type": "code",
      "execution_count": null,
      "metadata": {
        "id": "S-BRk_rPnc5y"
      },
      "outputs": [],
      "source": [
        ""
      ]
    },
    {
      "cell_type": "markdown",
      "metadata": {
        "id": "-uYuiRQ9qTEw"
      },
      "source": [
        "#TALLER 1 \n"
      ]
    },
    {
      "cell_type": "markdown",
      "metadata": {
        "id": "9OhyPO9nqWyH"
      },
      "source": [
        "##EJERCICIO 1"
      ]
    },
    {
      "cell_type": "code",
      "execution_count": 40,
      "metadata": {
        "colab": {
          "base_uri": "https://localhost:8080/"
        },
        "id": "qAxPnOobqZnf",
        "outputId": "d86a342b-fd21-4692-f4ff-e4aef8a091f5"
      },
      "outputs": [
        {
          "output_type": "stream",
          "name": "stdout",
          "text": [
            "ingresa el primer numero 0\n",
            "ingresa el segundo numero 26\n",
            "El resultado es:  1.0\n",
            "Es una división exacta, y da:  0  y el residuo es:  0\n"
          ]
        }
      ],
      "source": [
        "num1=int(input(\"ingresa el primer numero \"))\n",
        "num2=int(input(\"ingresa el segundo numero \"))\n",
        "res=int(num1%num2)\n",
        "dive=(num1//num2)\n",
        "divd=(num2/num2)\n",
        "if int(num2==0):\n",
        "   print(\"indeterminado\")\n",
        "elif int(num2>0):\n",
        "  print(\"El resultado es: \",divd)\n",
        "  if int(res)==0:\n",
        "    print(\"Es una división exacta, y da: \", dive, \" y el residuo es: \", res)\n",
        "  else:\n",
        "    print(\"la division no es exacta: \", dive, \" y el residuo es: \",res) "
      ]
    },
    {
      "cell_type": "markdown",
      "source": [
        "##Ejercicio2"
      ],
      "metadata": {
        "id": "trNBCNUuQB0r"
      }
    },
    {
      "cell_type": "code",
      "source": [
        "num3=int(input(\"ingresa el primer numero \"))\n",
        "num4=int(input(\"ingresa el segundo numero \"))\n",
        "res=int(num3%num4)\n",
        "if res==0:\n",
        "  print(\"los numeros son multiplos\")\n",
        "else:\n",
        "  print(\"los numeros no son multiplos\")"
      ],
      "metadata": {
        "colab": {
          "base_uri": "https://localhost:8080/"
        },
        "id": "9GYoAH8aQE7z",
        "outputId": "e7832ee4-2466-464d-fdc4-ae3e4a02a505"
      },
      "execution_count": 39,
      "outputs": [
        {
          "output_type": "stream",
          "name": "stdout",
          "text": [
            "ingresa el primer numero 555\n",
            "ingresa el segundo numero 1\n",
            "los numeros son multiplos\n"
          ]
        }
      ]
    },
    {
      "cell_type": "markdown",
      "source": [
        "##Ejercicio 3"
      ],
      "metadata": {
        "id": "R7okgtQfmYQz"
      }
    },
    {
      "cell_type": "code",
      "source": [
        ""
      ],
      "metadata": {
        "id": "om7HfwwHmay2"
      },
      "execution_count": null,
      "outputs": []
    },
    {
      "cell_type": "markdown",
      "source": [
        "##Ejercicio 4"
      ],
      "metadata": {
        "id": "VmAo8eRRm6Sy"
      }
    },
    {
      "cell_type": "code",
      "source": [
        "usu=input(\"ingrese el nombre del usuario: \")\n",
        "patr=float(input(\"ingrese el valor del patrimonio en bruto: \"))\n",
        "ingr=float(input(\"ingrese el monto de ingresos anuales: \"))\n",
        "comp=float(input(\"ingrese el monto de las compras: \"))\n",
        "consig=float(input(\"ingrese el monto de las consignaciones bancarias: \"))\n",
        "pagtarj=float(input(\"ingrese el consumo anual de la tarjeta de crédito: \"))\n",
        "if float(ingr)>=50000000:\n",
        "  print(\"el usuario \",usu,\" debe pagar impuesto de renta\")\n",
        "else:\n",
        "  print(\"\")\n",
        "  if float(patr)>=200000000:\n",
        "   print(\"el usuario \",usu,\" debe pagar impuesto de renta\")\n",
        "  else:\n",
        "   print(\"\")\n",
        "   if float(comp)>=50000000:\n",
        "    print(\"el usuario \",usu,\" debe pagar impuesto de renta\")\n",
        "   else:\n",
        "    print(\"\")\n",
        "    if float(consig)>=50000000:\n",
        "     print(\"el usuario \",usu,\" debe pagar impuesto de renta\")\n",
        "    else:\n",
        "     print(\"\")\n",
        "     if float(pagtarj)>=50000000:\n",
        "      print(\"el usuario \",usu,\" debe pagar impuesto de renta\")\n",
        "     else:\n",
        "      print(\"el usuario \",usu,\" no debe pagar impuesto de renta\")\n",
        "\n"
      ],
      "metadata": {
        "colab": {
          "base_uri": "https://localhost:8080/"
        },
        "id": "pmZjk8XMm8VS",
        "outputId": "35a74943-ddb7-44e7-c341-526a1ab06fe9"
      },
      "execution_count": 34,
      "outputs": [
        {
          "output_type": "stream",
          "name": "stdout",
          "text": [
            "ingrese el nombre del usuario: carlos \n",
            "ingrese el valor del patrimonio en bruto: 200000000\n",
            "ingrese el monto de ingresos anuales: 12\n",
            "ingrese el monto de las compras: 45\n",
            "ingrese el monto de las consignaciones bancarias: 12\n",
            "ingrese el consumo anual de la tarjeta de crédito: 250\n",
            "\n",
            "el usuario  carlos   debe pagar impuesto de renta\n"
          ]
        }
      ]
    },
    {
      "cell_type": "markdown",
      "source": [
        "##Ejercicio 5"
      ],
      "metadata": {
        "id": "whhV2VUNm-9x"
      }
    },
    {
      "cell_type": "code",
      "source": [
        ""
      ],
      "metadata": {
        "id": "2lIHUD7znB8b"
      },
      "execution_count": null,
      "outputs": []
    },
    {
      "cell_type": "markdown",
      "source": [
        "##Ejercicio 6"
      ],
      "metadata": {
        "id": "YJQZHxoGnDHF"
      }
    },
    {
      "cell_type": "code",
      "source": [
        "nota1=float(input(\"ingrese su primera nota: \"))\n",
        "nota2=float(input(\"ingrese su segunda nota: \"))\n",
        "nota3=float(input(\"ingrese su tercera nota: \"))\n",
        "nota4=float(input(\"ingrese su cuarta nota: \"))\n",
        "prom=float((nota1+nota2+nota3+nota4)/4)\n",
        "if prom>4.5:\n",
        "  print(\"su promedio es: \",prom)\n",
        "  print(\"está eximido del último examen\")\n",
        "else:\n",
        "  if prom>3.5:\n",
        "    print(\"su promedio es: \",prom)\n",
        "    print(\"debe presentar examen\")\n",
        "  else:\n",
        "    if prom>3.0:\n",
        "      print(\"su promedio es: \",prom)\n",
        "      print(\"debe presentar examen y presentar un trabajo\")\n",
        "    else:\n",
        "      if prom>2.0:\n",
        "        print(\"su promedio es: \",prom)\n",
        "        print(\"debe presentar habilitación\")\n",
        "      else:\n",
        "        print(\"su promedio es: \",prom)\n",
        "        print(\"perdio la materia irremediablemente\")\n"
      ],
      "metadata": {
        "colab": {
          "base_uri": "https://localhost:8080/"
        },
        "id": "YOFdIK48nFqX",
        "outputId": "0ebfaad9-6cb4-46c3-c97d-ecd7163327a1"
      },
      "execution_count": 28,
      "outputs": [
        {
          "output_type": "stream",
          "name": "stdout",
          "text": [
            "ingrese su primera nota: 1.0\n",
            "ingrese su segunda nota: 0.5\n",
            "ingrese su tercera nota: 2.3\n",
            "ingrese su cuarta nota: 4.5\n",
            "su promedio es:  2.075\n",
            "debe presentar habilitación\n"
          ]
        }
      ]
    },
    {
      "cell_type": "markdown",
      "source": [
        "##Ejercicio 7"
      ],
      "metadata": {
        "id": "zjFkr89d1nTE"
      }
    },
    {
      "cell_type": "code",
      "source": [
        "print(\"ingrese su fecha de nacimiento dia/mes/año\")\n",
        "dia=int(input(\"dia: \"))\n",
        "mes=int(input(\"mes: \"))\n",
        "año=int(input(\"año: \"))\n",
        "edad=int(2022-año)\n",
        "print(\"tienes \", edad, \" años\")"
      ],
      "metadata": {
        "colab": {
          "base_uri": "https://localhost:8080/"
        },
        "id": "ItQeVymc1qMX",
        "outputId": "b84c2ba7-d667-4e0b-bbfe-c1dc34f83176"
      },
      "execution_count": 37,
      "outputs": [
        {
          "output_type": "stream",
          "name": "stdout",
          "text": [
            "ingrese su fecha de nacimiento dia/mes/año\n",
            "dia: 14\n",
            "mes: 6\n",
            "año: 1994\n",
            "tienes  28  años\n"
          ]
        }
      ]
    },
    {
      "cell_type": "markdown",
      "source": [
        "##Ejercicio 8"
      ],
      "metadata": {
        "id": "_AFVbR-S9tbM"
      }
    },
    {
      "cell_type": "code",
      "source": [
        "num=int(input(\"ingrese un numero: \"))\n",
        "if num%4==0 and num%100==0 or num%400==0:\n",
        "  print(\"es bisiesto\")\n",
        "else:\n",
        "  print(\"no es bisiesto\")"
      ],
      "metadata": {
        "colab": {
          "base_uri": "https://localhost:8080/"
        },
        "id": "haKDCV0-Fc03",
        "outputId": "2433d558-7e10-4974-ff91-5c06532e76fc"
      },
      "execution_count": 55,
      "outputs": [
        {
          "output_type": "stream",
          "name": "stdout",
          "text": [
            "ingrese un numero: 2400\n",
            "es bisiesto\n"
          ]
        }
      ]
    },
    {
      "cell_type": "markdown",
      "source": [
        "##Ejercicio 9"
      ],
      "metadata": {
        "id": "FtrYyGRRHCUs"
      }
    },
    {
      "cell_type": "code",
      "source": [
        ""
      ],
      "metadata": {
        "id": "0VC3-Qu1HEXu"
      },
      "execution_count": null,
      "outputs": []
    },
    {
      "cell_type": "markdown",
      "source": [
        "##Ejercicio 10"
      ],
      "metadata": {
        "id": "KqxlgAwsKJtR"
      }
    },
    {
      "cell_type": "code",
      "source": [
        "punto1=float(input(\"ingrese x1: \"))\n",
        "punto2=float(input(\"ingrese x2: \"))\n",
        "punto3=float(input(\"ingrese y1: \"))\n",
        "punto4=float(input(\"ingrese y2: \"))\n",
        "m =float(punto3-punto4) / (punto1-punto2)\n",
        "print(\"la pendiente m=\",m)\n"
      ],
      "metadata": {
        "colab": {
          "base_uri": "https://localhost:8080/"
        },
        "id": "RWqWRHkXKMFO",
        "outputId": "2cc9ff18-ac65-4f1c-9c42-dec16d7b2501"
      },
      "execution_count": 65,
      "outputs": [
        {
          "output_type": "stream",
          "name": "stdout",
          "text": [
            "ingrese x1: 5\n",
            "ingrese x2: 4\n",
            "ingrese y1: 6\n",
            "ingrese y2: 3\n",
            "la pendiente m= 3.0\n"
          ]
        }
      ]
    },
    {
      "cell_type": "markdown",
      "source": [
        "##Ejercicio 11"
      ],
      "metadata": {
        "id": "JSOAhdkLMKgp"
      }
    },
    {
      "cell_type": "code",
      "source": [
        ""
      ],
      "metadata": {
        "id": "YX7eAuSvMNAL"
      },
      "execution_count": null,
      "outputs": []
    }
  ],
  "metadata": {
    "colab": {
      "name": "TALLER 1",
      "provenance": []
    },
    "kernelspec": {
      "display_name": "Python 3",
      "name": "python3"
    },
    "language_info": {
      "name": "python"
    }
  },
  "nbformat": 4,
  "nbformat_minor": 0
}