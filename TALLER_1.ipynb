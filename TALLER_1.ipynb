{
  "nbformat": 4,
  "nbformat_minor": 0,
  "metadata": {
    "colab": {
      "name": "TALLER 1",
      "provenance": []
    },
    "kernelspec": {
      "name": "python3",
      "display_name": "Python 3"
    },
    "language_info": {
      "name": "python"
    }
  },
  "cells": [
    {
      "cell_type": "code",
      "execution_count": null,
      "metadata": {
        "id": "S-BRk_rPnc5y"
      },
      "outputs": [],
      "source": [
        ""
      ]
    },
    {
      "cell_type": "markdown",
      "source": [
        "#TALLER 1 \n"
      ],
      "metadata": {
        "id": "-uYuiRQ9qTEw"
      }
    },
    {
      "cell_type": "markdown",
      "source": [
        "##EJERCICIO 1"
      ],
      "metadata": {
        "id": "9OhyPO9nqWyH"
      }
    },
    {
      "cell_type": "code",
      "source": [
        "num1=int(input(\"ingresa el primer numero \"))\n",
        "num2=int(input(\"ingresa el segundo numero \"))\n",
        "res=(num1%num2)\n",
        "div=(num1//num2)\n",
        "if num2>0:\n",
        "  print(\"la division es\", div, \" y el residuo es: \",res)\n",
        "elif num2=0:\n",
        "  print(res,\"indeterminado\")"
      ],
      "metadata": {
        "id": "qAxPnOobqZnf",
        "colab": {
          "base_uri": "https://localhost:8080/",
          "height": 130
        },
        "outputId": "aaf96510-c4a8-41d5-bb75-a7fe9f0c2b8b"
      },
      "execution_count": 45,
      "outputs": [
        {
          "output_type": "error",
          "ename": "SyntaxError",
          "evalue": "ignored",
          "traceback": [
            "\u001b[0;36m  File \u001b[0;32m\"<ipython-input-45-f24a6b328db7>\"\u001b[0;36m, line \u001b[0;32m7\u001b[0m\n\u001b[0;31m    elif num2=0:\u001b[0m\n\u001b[0m             ^\u001b[0m\n\u001b[0;31mSyntaxError\u001b[0m\u001b[0;31m:\u001b[0m invalid syntax\n"
          ]
        }
      ]
    }
  ]
}