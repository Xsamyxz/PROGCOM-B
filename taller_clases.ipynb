{
  "nbformat": 4,
  "nbformat_minor": 0,
  "metadata": {
    "colab": {
      "provenance": []
    },
    "kernelspec": {
      "name": "python3",
      "display_name": "Python 3"
    },
    "language_info": {
      "name": "python"
    }
  },
  "cells": [
    {
      "cell_type": "markdown",
      "source": [
        "# clases"
      ],
      "metadata": {
        "id": "lVZVjsG0TCvi"
      }
    },
    {
      "cell_type": "code",
      "execution_count": null,
      "metadata": {
        "id": "B1fjBc4YR0kq"
      },
      "outputs": [],
      "source": [
        "#3 clases con N esatudiantes \n",
        "#cada estudiante tiene N notas\n",
        "#sacar la mejor y peor nota de cada clase\n",
        "#sacar la mejor y peor nota de las tres clases"
      ]
    },
    {
      "cell_type": "code",
      "source": [
        "profesor={}"
      ],
      "metadata": {
        "id": "ryG26EQfTmwG"
      },
      "execution_count": 1,
      "outputs": []
    },
    {
      "cell_type": "code",
      "source": [
        "type(profesor)"
      ],
      "metadata": {
        "colab": {
          "base_uri": "https://localhost:8080/"
        },
        "id": "nUsdLLhPUfJp",
        "outputId": "c2f2deb5-85a4-4b35-a76a-9aa74746a39a"
      },
      "execution_count": 2,
      "outputs": [
        {
          "output_type": "execute_result",
          "data": {
            "text/plain": [
              "dict"
            ]
          },
          "metadata": {},
          "execution_count": 2
        }
      ]
    },
    {
      "cell_type": "code",
      "source": [
        "profesor={\"clase1\":[],\"clase2\":[],\"clase3\":[]}\n"
      ],
      "metadata": {
        "id": "iwQbvt54Uhz4"
      },
      "execution_count": null,
      "outputs": []
    }
  ]
}